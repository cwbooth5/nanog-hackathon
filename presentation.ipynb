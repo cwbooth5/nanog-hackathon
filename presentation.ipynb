{
 "cells": [
  {
   "cell_type": "markdown",
   "metadata": {
    "slideshow": {
     "slide_type": "-"
    }
   },
   "source": [
    "This is a short presentation on the topic of network automation and abstraction of various network devices. The presentation format is designed to include slides of text and discussion, with bits of code to demonstrate the concepts along the way.\n",
    "\n",
    "\n",
    "\n",
    "\n",
    "\n",
    "\n",
    "Part 1: Hiding devices behind a single layer of commands\n",
    "Part 2: Extracting information from devices, connecting to external tooling\n",
    "Part 3: Presenting data\n",
    "Part 4: Extending everything"
   ]
  },
  {
   "cell_type": "markdown",
   "metadata": {},
   "source": [
    "**\"Hacking\"**\n",
    "\n",
    "This is a subjective term and it can mean a number of things. To the outsider or layperson, it's some evil nerd with a deep technical skill set and an attitude. In our world, it really just means being creative, curious, and thoughtful about the approaches you take to problems while working in a networked environment.\n",
    "\n",
    "When working with one or even thousands of networked resources, it pays to be organized. It also pays to automate that which takes up manual cycles of a network operator's time since this cuts down on operational costs. This is one central reason you see networking jobs in the industry require some coding experience. Automation makes tasks *reapeatable* as well, which means both you and your peer can set up, execute, and tear down changes identically at different times in different places.\n",
    "\n",
    "Along the way in this tutorial, note any unfamiliar areas and ask yourself, *\"How would I design this?\" or \"How would I learn more about this?*. Be thinking about the environments you've worked in and the open problems you'd like to solve."
   ]
  },
  {
   "cell_type": "markdown",
   "metadata": {},
   "source": [
    "possible solutions and the stack of tooling available\n",
    "\n",
    "ansible, robot, salt, python unit test frameworks, build systems...\n",
    "\n",
    "napalm, ipython, home-grown scripts...\n",
    "\n",
    "Cisco, Juniper, Arista, F5, Citrix, Infinera, etc."
   ]
  },
  {
   "cell_type": "markdown",
   "metadata": {},
   "source": [
    "**Part 1 - Device Abstraction**\n",
    "\n",
    "One common problem with network operations is nobody really implements a protocol or interface *consistently*.\n",
    "\n",
    "HTTP, HTTPS, telnet, SSH, NETCONF, JSON-RPC, XML-RPC, bare sockets, carrier pidgeons[1](https://tools.ietf.org/html/rfc2549)\n",
    "\n",
    "The problem is *they don't have to* implement their interface consistently. How are they supposed to expect we all want the exact same functions available on all network devices? It's unreasonable to assume parity between interfaces to these network OS'es, so what are we going to do about it?\n",
    "\n",
    "It turns out, there's (roughly) an 80/20 rule here. If you lump together all the network devices you control under one access layer, you can either engineer or locate a solution which provides about 80 percent of what you need. The remaining 20 percent is functionality you require, but it's either not implemented, not on their roadmap, or not even technically possible."
   ]
  },
  {
   "cell_type": "code",
   "execution_count": 6,
   "metadata": {
    "slideshow": {
     "slide_type": "-"
    }
   },
   "outputs": [
    {
     "name": "stdout",
     "output_type": "stream",
     "text": [
      "172.16.130.11\n",
      "{'config_session': None,\n",
      " 'device': Node(connection=EapiConnection(transport=https://172.16.130.11:443//command-api)),\n",
      " 'enablepwd': '',\n",
      " 'eos_autoComplete': None,\n",
      " 'hostname': '172.16.130.11',\n",
      " 'locked': False,\n",
      " 'password': 'admin',\n",
      " 'port': 443,\n",
      " 'profile': ['eos'],\n",
      " 'timeout': 60,\n",
      " 'transport': 'https',\n",
      " 'username': 'admin'}\n",
      "{'fqdn': 'eos1',\n",
      " 'hostname': 'eos1',\n",
      " 'interface_list': ['Ethernet1',\n",
      "                    'Ethernet2',\n",
      "                    'Ethernet3',\n",
      "                    'Loopback1',\n",
      "                    'Loopback2',\n",
      "                    'Management1'],\n",
      " 'model': 'vEOS',\n",
      " 'os_version': '4.15.5M-3054042.4155M',\n",
      " 'serial_number': '',\n",
      " 'uptime': 85006,\n",
      " 'vendor': 'Arista'}\n",
      "172.16.130.12\n",
      "{'config_session': None,\n",
      " 'device': Node(connection=EapiConnection(transport=https://172.16.130.12:443//command-api)),\n",
      " 'enablepwd': '',\n",
      " 'eos_autoComplete': None,\n",
      " 'hostname': '172.16.130.12',\n",
      " 'locked': False,\n",
      " 'password': 'admin',\n",
      " 'port': 443,\n",
      " 'profile': ['eos'],\n",
      " 'timeout': 60,\n",
      " 'transport': 'https',\n",
      " 'username': 'admin'}\n",
      "{'fqdn': 'eos2',\n",
      " 'hostname': 'eos2',\n",
      " 'interface_list': ['Ethernet1',\n",
      "                    'Ethernet2',\n",
      "                    'Ethernet3',\n",
      "                    'Loopback1',\n",
      "                    'Management1'],\n",
      " 'model': 'vEOS',\n",
      " 'os_version': '4.15.5M-3054042.4155M',\n",
      " 'serial_number': '',\n",
      " 'uptime': 84967,\n",
      " 'vendor': 'Arista'}\n",
      "172.16.130.13\n"
     ]
    },
    {
     "name": "stderr",
     "output_type": "stream",
     "text": [
      "timed out\n",
      "Traceback (most recent call last):\n",
      "  File \"/Users/bboothv/.pyenv/versions/3.6.3/envs/nanog/lib/python3.6/site-packages/pyeapi/eapilib.py\", line 385, in send\n",
      "    self.transport.endheaders(message_body=data)\n",
      "  File \"/Users/bboothv/.pyenv/versions/3.6.3/lib/python3.6/http/client.py\", line 1234, in endheaders\n",
      "    self._send_output(message_body, encode_chunked=encode_chunked)\n",
      "  File \"/Users/bboothv/.pyenv/versions/3.6.3/lib/python3.6/http/client.py\", line 1026, in _send_output\n",
      "    self.send(msg)\n",
      "  File \"/Users/bboothv/.pyenv/versions/3.6.3/lib/python3.6/http/client.py\", line 964, in send\n",
      "    self.connect()\n",
      "  File \"/Users/bboothv/.pyenv/versions/3.6.3/lib/python3.6/http/client.py\", line 1392, in connect\n",
      "    super().connect()\n",
      "  File \"/Users/bboothv/.pyenv/versions/3.6.3/lib/python3.6/http/client.py\", line 936, in connect\n",
      "    (self.host,self.port), self.timeout, self.source_address)\n",
      "  File \"/Users/bboothv/.pyenv/versions/3.6.3/lib/python3.6/socket.py\", line 724, in create_connection\n",
      "    raise err\n",
      "  File \"/Users/bboothv/.pyenv/versions/3.6.3/lib/python3.6/socket.py\", line 713, in create_connection\n",
      "    sock.connect(sa)\n",
      "socket.timeout: timed out\n"
     ]
    },
    {
     "ename": "ConnectionException",
     "evalue": "Socket error during eAPI connection: timed out",
     "output_type": "error",
     "traceback": [
      "\u001b[0;31m---------------------------------------------------------------------------\u001b[0m",
      "\u001b[0;31mtimeout\u001b[0m                                   Traceback (most recent call last)",
      "\u001b[0;32m~/.pyenv/versions/3.6.3/envs/nanog/lib/python3.6/site-packages/pyeapi/eapilib.py\u001b[0m in \u001b[0;36msend\u001b[0;34m(self, data)\u001b[0m\n\u001b[1;32m    384\u001b[0m \u001b[0;34m\u001b[0m\u001b[0m\n\u001b[0;32m--> 385\u001b[0;31m             \u001b[0mself\u001b[0m\u001b[0;34m.\u001b[0m\u001b[0mtransport\u001b[0m\u001b[0;34m.\u001b[0m\u001b[0mendheaders\u001b[0m\u001b[0;34m(\u001b[0m\u001b[0mmessage_body\u001b[0m\u001b[0;34m=\u001b[0m\u001b[0mdata\u001b[0m\u001b[0;34m)\u001b[0m\u001b[0;34m\u001b[0m\u001b[0m\n\u001b[0m\u001b[1;32m    386\u001b[0m \u001b[0;34m\u001b[0m\u001b[0m\n",
      "\u001b[0;32m~/.pyenv/versions/3.6.3/lib/python3.6/http/client.py\u001b[0m in \u001b[0;36mendheaders\u001b[0;34m(self, message_body, encode_chunked)\u001b[0m\n\u001b[1;32m   1233\u001b[0m             \u001b[0;32mraise\u001b[0m \u001b[0mCannotSendHeader\u001b[0m\u001b[0;34m(\u001b[0m\u001b[0;34m)\u001b[0m\u001b[0;34m\u001b[0m\u001b[0m\n\u001b[0;32m-> 1234\u001b[0;31m         \u001b[0mself\u001b[0m\u001b[0;34m.\u001b[0m\u001b[0m_send_output\u001b[0m\u001b[0;34m(\u001b[0m\u001b[0mmessage_body\u001b[0m\u001b[0;34m,\u001b[0m \u001b[0mencode_chunked\u001b[0m\u001b[0;34m=\u001b[0m\u001b[0mencode_chunked\u001b[0m\u001b[0;34m)\u001b[0m\u001b[0;34m\u001b[0m\u001b[0m\n\u001b[0m\u001b[1;32m   1235\u001b[0m \u001b[0;34m\u001b[0m\u001b[0m\n",
      "\u001b[0;32m~/.pyenv/versions/3.6.3/lib/python3.6/http/client.py\u001b[0m in \u001b[0;36m_send_output\u001b[0;34m(self, message_body, encode_chunked)\u001b[0m\n\u001b[1;32m   1025\u001b[0m         \u001b[0;32mdel\u001b[0m \u001b[0mself\u001b[0m\u001b[0;34m.\u001b[0m\u001b[0m_buffer\u001b[0m\u001b[0;34m[\u001b[0m\u001b[0;34m:\u001b[0m\u001b[0;34m]\u001b[0m\u001b[0;34m\u001b[0m\u001b[0m\n\u001b[0;32m-> 1026\u001b[0;31m         \u001b[0mself\u001b[0m\u001b[0;34m.\u001b[0m\u001b[0msend\u001b[0m\u001b[0;34m(\u001b[0m\u001b[0mmsg\u001b[0m\u001b[0;34m)\u001b[0m\u001b[0;34m\u001b[0m\u001b[0m\n\u001b[0m\u001b[1;32m   1027\u001b[0m \u001b[0;34m\u001b[0m\u001b[0m\n",
      "\u001b[0;32m~/.pyenv/versions/3.6.3/lib/python3.6/http/client.py\u001b[0m in \u001b[0;36msend\u001b[0;34m(self, data)\u001b[0m\n\u001b[1;32m    963\u001b[0m             \u001b[0;32mif\u001b[0m \u001b[0mself\u001b[0m\u001b[0;34m.\u001b[0m\u001b[0mauto_open\u001b[0m\u001b[0;34m:\u001b[0m\u001b[0;34m\u001b[0m\u001b[0m\n\u001b[0;32m--> 964\u001b[0;31m                 \u001b[0mself\u001b[0m\u001b[0;34m.\u001b[0m\u001b[0mconnect\u001b[0m\u001b[0;34m(\u001b[0m\u001b[0;34m)\u001b[0m\u001b[0;34m\u001b[0m\u001b[0m\n\u001b[0m\u001b[1;32m    965\u001b[0m             \u001b[0;32melse\u001b[0m\u001b[0;34m:\u001b[0m\u001b[0;34m\u001b[0m\u001b[0m\n",
      "\u001b[0;32m~/.pyenv/versions/3.6.3/lib/python3.6/http/client.py\u001b[0m in \u001b[0;36mconnect\u001b[0;34m(self)\u001b[0m\n\u001b[1;32m   1391\u001b[0m \u001b[0;34m\u001b[0m\u001b[0m\n\u001b[0;32m-> 1392\u001b[0;31m             \u001b[0msuper\u001b[0m\u001b[0;34m(\u001b[0m\u001b[0;34m)\u001b[0m\u001b[0;34m.\u001b[0m\u001b[0mconnect\u001b[0m\u001b[0;34m(\u001b[0m\u001b[0;34m)\u001b[0m\u001b[0;34m\u001b[0m\u001b[0m\n\u001b[0m\u001b[1;32m   1393\u001b[0m \u001b[0;34m\u001b[0m\u001b[0m\n",
      "\u001b[0;32m~/.pyenv/versions/3.6.3/lib/python3.6/http/client.py\u001b[0m in \u001b[0;36mconnect\u001b[0;34m(self)\u001b[0m\n\u001b[1;32m    935\u001b[0m         self.sock = self._create_connection(\n\u001b[0;32m--> 936\u001b[0;31m             (self.host,self.port), self.timeout, self.source_address)\n\u001b[0m\u001b[1;32m    937\u001b[0m         \u001b[0mself\u001b[0m\u001b[0;34m.\u001b[0m\u001b[0msock\u001b[0m\u001b[0;34m.\u001b[0m\u001b[0msetsockopt\u001b[0m\u001b[0;34m(\u001b[0m\u001b[0msocket\u001b[0m\u001b[0;34m.\u001b[0m\u001b[0mIPPROTO_TCP\u001b[0m\u001b[0;34m,\u001b[0m \u001b[0msocket\u001b[0m\u001b[0;34m.\u001b[0m\u001b[0mTCP_NODELAY\u001b[0m\u001b[0;34m,\u001b[0m \u001b[0;36m1\u001b[0m\u001b[0;34m)\u001b[0m\u001b[0;34m\u001b[0m\u001b[0m\n",
      "\u001b[0;32m~/.pyenv/versions/3.6.3/lib/python3.6/socket.py\u001b[0m in \u001b[0;36mcreate_connection\u001b[0;34m(address, timeout, source_address)\u001b[0m\n\u001b[1;32m    723\u001b[0m     \u001b[0;32mif\u001b[0m \u001b[0merr\u001b[0m \u001b[0;32mis\u001b[0m \u001b[0;32mnot\u001b[0m \u001b[0;32mNone\u001b[0m\u001b[0;34m:\u001b[0m\u001b[0;34m\u001b[0m\u001b[0m\n\u001b[0;32m--> 724\u001b[0;31m         \u001b[0;32mraise\u001b[0m \u001b[0merr\u001b[0m\u001b[0;34m\u001b[0m\u001b[0m\n\u001b[0m\u001b[1;32m    725\u001b[0m     \u001b[0;32melse\u001b[0m\u001b[0;34m:\u001b[0m\u001b[0;34m\u001b[0m\u001b[0m\n",
      "\u001b[0;32m~/.pyenv/versions/3.6.3/lib/python3.6/socket.py\u001b[0m in \u001b[0;36mcreate_connection\u001b[0;34m(address, timeout, source_address)\u001b[0m\n\u001b[1;32m    712\u001b[0m                 \u001b[0msock\u001b[0m\u001b[0;34m.\u001b[0m\u001b[0mbind\u001b[0m\u001b[0;34m(\u001b[0m\u001b[0msource_address\u001b[0m\u001b[0;34m)\u001b[0m\u001b[0;34m\u001b[0m\u001b[0m\n\u001b[0;32m--> 713\u001b[0;31m             \u001b[0msock\u001b[0m\u001b[0;34m.\u001b[0m\u001b[0mconnect\u001b[0m\u001b[0;34m(\u001b[0m\u001b[0msa\u001b[0m\u001b[0;34m)\u001b[0m\u001b[0;34m\u001b[0m\u001b[0m\n\u001b[0m\u001b[1;32m    714\u001b[0m             \u001b[0;31m# Break explicitly a reference cycle\u001b[0m\u001b[0;34m\u001b[0m\u001b[0;34m\u001b[0m\u001b[0m\n",
      "\u001b[0;31mtimeout\u001b[0m: timed out",
      "\nDuring handling of the above exception, another exception occurred:\n",
      "\u001b[0;31mConnectionError\u001b[0m                           Traceback (most recent call last)",
      "\u001b[0;32m~/.pyenv/versions/3.6.3/envs/nanog/lib/python3.6/site-packages/napalm/eos/eos.py\u001b[0m in \u001b[0;36mopen\u001b[0;34m(self)\u001b[0m\n\u001b[1;32m    121\u001b[0m             \u001b[0;31m# let's try to run a very simple command\u001b[0m\u001b[0;34m\u001b[0m\u001b[0;34m\u001b[0m\u001b[0m\n\u001b[0;32m--> 122\u001b[0;31m             \u001b[0mself\u001b[0m\u001b[0;34m.\u001b[0m\u001b[0mdevice\u001b[0m\u001b[0;34m.\u001b[0m\u001b[0mrun_commands\u001b[0m\u001b[0;34m(\u001b[0m\u001b[0;34m[\u001b[0m\u001b[0;34m'show clock'\u001b[0m\u001b[0;34m]\u001b[0m\u001b[0;34m,\u001b[0m \u001b[0mencoding\u001b[0m\u001b[0;34m=\u001b[0m\u001b[0;34m'text'\u001b[0m\u001b[0;34m)\u001b[0m\u001b[0;34m\u001b[0m\u001b[0m\n\u001b[0m\u001b[1;32m    123\u001b[0m         \u001b[0;32mexcept\u001b[0m \u001b[0mConnectionError\u001b[0m \u001b[0;32mas\u001b[0m \u001b[0mce\u001b[0m\u001b[0;34m:\u001b[0m\u001b[0;34m\u001b[0m\u001b[0m\n",
      "\u001b[0;32m~/.pyenv/versions/3.6.3/envs/nanog/lib/python3.6/site-packages/pyeapi/client.py\u001b[0m in \u001b[0;36mrun_commands\u001b[0;34m(self, commands, encoding, send_enable, **kwargs)\u001b[0m\n\u001b[1;32m    729\u001b[0m \u001b[0;34m\u001b[0m\u001b[0m\n\u001b[0;32m--> 730\u001b[0;31m         \u001b[0mresponse\u001b[0m \u001b[0;34m=\u001b[0m \u001b[0mself\u001b[0m\u001b[0;34m.\u001b[0m\u001b[0m_connection\u001b[0m\u001b[0;34m.\u001b[0m\u001b[0mexecute\u001b[0m\u001b[0;34m(\u001b[0m\u001b[0mcommands\u001b[0m\u001b[0;34m,\u001b[0m \u001b[0mencoding\u001b[0m\u001b[0;34m,\u001b[0m \u001b[0;34m**\u001b[0m\u001b[0mkwargs\u001b[0m\u001b[0;34m)\u001b[0m\u001b[0;34m\u001b[0m\u001b[0m\n\u001b[0m\u001b[1;32m    731\u001b[0m \u001b[0;34m\u001b[0m\u001b[0m\n",
      "\u001b[0;32m~/.pyenv/versions/3.6.3/envs/nanog/lib/python3.6/site-packages/pyeapi/eapilib.py\u001b[0m in \u001b[0;36mexecute\u001b[0;34m(self, commands, encoding, **kwargs)\u001b[0m\n\u001b[1;32m    498\u001b[0m             \u001b[0mrequest\u001b[0m \u001b[0;34m=\u001b[0m \u001b[0mself\u001b[0m\u001b[0;34m.\u001b[0m\u001b[0mrequest\u001b[0m\u001b[0;34m(\u001b[0m\u001b[0mcommands\u001b[0m\u001b[0;34m,\u001b[0m \u001b[0mencoding\u001b[0m\u001b[0;34m=\u001b[0m\u001b[0mencoding\u001b[0m\u001b[0;34m,\u001b[0m \u001b[0;34m**\u001b[0m\u001b[0mkwargs\u001b[0m\u001b[0;34m)\u001b[0m\u001b[0;34m\u001b[0m\u001b[0m\n\u001b[0;32m--> 499\u001b[0;31m             \u001b[0mresponse\u001b[0m \u001b[0;34m=\u001b[0m \u001b[0mself\u001b[0m\u001b[0;34m.\u001b[0m\u001b[0msend\u001b[0m\u001b[0;34m(\u001b[0m\u001b[0mrequest\u001b[0m\u001b[0;34m)\u001b[0m\u001b[0;34m\u001b[0m\u001b[0m\n\u001b[0m\u001b[1;32m    500\u001b[0m             \u001b[0;32mreturn\u001b[0m \u001b[0mresponse\u001b[0m\u001b[0;34m\u001b[0m\u001b[0m\n",
      "\u001b[0;32m~/.pyenv/versions/3.6.3/envs/nanog/lib/python3.6/site-packages/pyeapi/eapilib.py\u001b[0m in \u001b[0;36msend\u001b[0;34m(self, data)\u001b[0m\n\u001b[1;32m    427\u001b[0m             \u001b[0merror_msg\u001b[0m \u001b[0;34m=\u001b[0m \u001b[0;34m'Socket error during eAPI connection: %s'\u001b[0m \u001b[0;34m%\u001b[0m \u001b[0mstr\u001b[0m\u001b[0;34m(\u001b[0m\u001b[0mexc\u001b[0m\u001b[0;34m)\u001b[0m\u001b[0;34m\u001b[0m\u001b[0m\n\u001b[0;32m--> 428\u001b[0;31m             \u001b[0;32mraise\u001b[0m \u001b[0mConnectionError\u001b[0m\u001b[0;34m(\u001b[0m\u001b[0mstr\u001b[0m\u001b[0;34m(\u001b[0m\u001b[0mself\u001b[0m\u001b[0;34m)\u001b[0m\u001b[0;34m,\u001b[0m \u001b[0merror_msg\u001b[0m\u001b[0;34m)\u001b[0m\u001b[0;34m\u001b[0m\u001b[0m\n\u001b[0m\u001b[1;32m    429\u001b[0m         \u001b[0;32mexcept\u001b[0m \u001b[0mValueError\u001b[0m \u001b[0;32mas\u001b[0m \u001b[0mexc\u001b[0m\u001b[0;34m:\u001b[0m\u001b[0;34m\u001b[0m\u001b[0m\n",
      "\u001b[0;31mConnectionError\u001b[0m: Socket error during eAPI connection: timed out",
      "\nDuring handling of the above exception, another exception occurred:\n",
      "\u001b[0;31mConnectionException\u001b[0m                       Traceback (most recent call last)",
      "\u001b[0;32m<ipython-input-6-0b7fbfab3035>\u001b[0m in \u001b[0;36m<module>\u001b[0;34m()\u001b[0m\n\u001b[1;32m     21\u001b[0m \u001b[0;34m\u001b[0m\u001b[0m\n\u001b[1;32m     22\u001b[0m \u001b[0;34m\u001b[0m\u001b[0m\n\u001b[0;32m---> 23\u001b[0;31m \u001b[0mdiscover_devices\u001b[0m\u001b[0;34m(\u001b[0m\u001b[0mtargets\u001b[0m\u001b[0;34m=\u001b[0m\u001b[0mrouters\u001b[0m\u001b[0;34m)\u001b[0m\u001b[0;34m\u001b[0m\u001b[0m\n\u001b[0m",
      "\u001b[0;32m<ipython-input-6-0b7fbfab3035>\u001b[0m in \u001b[0;36mdiscover_devices\u001b[0;34m(targets)\u001b[0m\n\u001b[1;32m     16\u001b[0m         \u001b[0mprint\u001b[0m\u001b[0;34m(\u001b[0m\u001b[0md\u001b[0m\u001b[0;34m)\u001b[0m\u001b[0;34m\u001b[0m\u001b[0m\n\u001b[1;32m     17\u001b[0m         \u001b[0mdevice\u001b[0m \u001b[0;34m=\u001b[0m \u001b[0mdriver\u001b[0m\u001b[0;34m(\u001b[0m\u001b[0md\u001b[0m\u001b[0;34m,\u001b[0m \u001b[0;34m'admin'\u001b[0m\u001b[0;34m,\u001b[0m \u001b[0;34m'admin'\u001b[0m\u001b[0;34m)\u001b[0m\u001b[0;34m\u001b[0m\u001b[0m\n\u001b[0;32m---> 18\u001b[0;31m         \u001b[0mdevice\u001b[0m\u001b[0;34m.\u001b[0m\u001b[0mopen\u001b[0m\u001b[0;34m(\u001b[0m\u001b[0;34m)\u001b[0m\u001b[0;34m\u001b[0m\u001b[0m\n\u001b[0m\u001b[1;32m     19\u001b[0m         \u001b[0mpprint\u001b[0m\u001b[0;34m(\u001b[0m\u001b[0mvars\u001b[0m\u001b[0;34m(\u001b[0m\u001b[0mdevice\u001b[0m\u001b[0;34m)\u001b[0m\u001b[0;34m)\u001b[0m\u001b[0;34m\u001b[0m\u001b[0m\n\u001b[1;32m     20\u001b[0m         \u001b[0mpprint\u001b[0m\u001b[0;34m(\u001b[0m\u001b[0mdevice\u001b[0m\u001b[0;34m.\u001b[0m\u001b[0mget_facts\u001b[0m\u001b[0;34m(\u001b[0m\u001b[0;34m)\u001b[0m\u001b[0;34m)\u001b[0m\u001b[0;34m\u001b[0m\u001b[0m\n",
      "\u001b[0;32m~/.pyenv/versions/3.6.3/envs/nanog/lib/python3.6/site-packages/napalm/eos/eos.py\u001b[0m in \u001b[0;36mopen\u001b[0;34m(self)\u001b[0m\n\u001b[1;32m    125\u001b[0m             \u001b[0;31m# either if HTTP(S) agent is not enabled\u001b[0m\u001b[0;34m\u001b[0m\u001b[0;34m\u001b[0m\u001b[0m\n\u001b[1;32m    126\u001b[0m             \u001b[0;31m# show management api http-commands\u001b[0m\u001b[0;34m\u001b[0m\u001b[0;34m\u001b[0m\u001b[0m\n\u001b[0;32m--> 127\u001b[0;31m             \u001b[0;32mraise\u001b[0m \u001b[0mConnectionException\u001b[0m\u001b[0;34m(\u001b[0m\u001b[0mce\u001b[0m\u001b[0;34m.\u001b[0m\u001b[0mmessage\u001b[0m\u001b[0;34m)\u001b[0m\u001b[0;34m\u001b[0m\u001b[0m\n\u001b[0m\u001b[1;32m    128\u001b[0m \u001b[0;34m\u001b[0m\u001b[0m\n\u001b[1;32m    129\u001b[0m     \u001b[0;32mdef\u001b[0m \u001b[0mclose\u001b[0m\u001b[0;34m(\u001b[0m\u001b[0mself\u001b[0m\u001b[0;34m)\u001b[0m\u001b[0;34m:\u001b[0m\u001b[0;34m\u001b[0m\u001b[0m\n",
      "\u001b[0;31mConnectionException\u001b[0m: Socket error during eAPI connection: timed out"
     ]
    }
   ],
   "source": [
    "from pprint import pprint\n",
    "from napalm import get_network_driver\n",
    "\n",
    "routers = ['172.16.130.11',\n",
    "           '172.16.130.12',\n",
    "           '172.16.130.13',\n",
    "           '172.16.130.14']\n",
    "\n",
    "# Important pattern - They've hidden the underlying transport mechanism from us here.\n",
    "# We only care about the endpoint we hit, the username, and password (at a minimum).\n",
    "# \n",
    "driver = get_network_driver('eos')\n",
    "\n",
    "def discover_devices(targets):\n",
    "    for d in targets:\n",
    "        print(d)\n",
    "        device = driver(d, 'admin', 'admin')\n",
    "        device.open()\n",
    "        pprint(vars(device))\n",
    "        pprint(device.get_facts()) \n",
    "        \n",
    "        \n",
    "discover_devices(targets=routers)"
   ]
  },
  {
   "cell_type": "markdown",
   "metadata": {},
   "source": [
    "Notice that the function above includes a password in cleartext. That was a short cut to get a connection to the box. Checking in code which contains sensitive data such as API passwords is not a good idea because anyone with a copy of the script has access to this password now. You want to limit the *blast radius* for security breaches, so if an outside were to get a copy of this script, they didn't have your super-secret internal passwords to hit your router APIs.\n",
    "\n",
    "What other ways can we solve this problem?\n",
    "\n",
    "* Shift to a model of using key-based authentication.\n",
    "* Store passwords somewhere secure outside the script and call them when needed."
   ]
  },
  {
   "cell_type": "markdown",
   "metadata": {
    "slideshow": {
     "slide_type": "-"
    }
   },
   "source": [
    "**Secrets and Managing Sensitive Data**\n",
    "\n",
    "Most network configurations contain very sensitive information. This includes but is not limited to:\n",
    "\n",
    "* BGP secrets\n",
    "* enable/configuration passwords\n",
    "* SSH passwords or keys\n",
    "* SSL private keys and private/public keypairs\n",
    "* Configuration blocks which expose sensitive customer data\n",
    "\n",
    "These can't just be stored in source control!\n",
    "\n",
    "You can go as deep as you want to, but sometimes the simple/quick/iterative solution is the most effective _right now_. The passwords in this demo are in cleartext. Just throw them into a file that looks like this:\n",
    "\n",
    "```\n",
    "172.130.16.11 admin\n",
    "172.130.16.12 admin\n",
    "172.130.16.13 admin\n",
    "172.130.16.14 admin\n",
    "```\n",
    "\n",
    "Then modify .gitignore to completely ignore this file so it is _never checked into source code repos_ and you're just a little bit more obscure here. No more passwords in the presentations or your code reviews, plus they're going to have to log in with enough privileges to read that file on your local filesystem. This file exists in the same directory as this notebook, but it can easily be put in another directory and changed to read/write permission the owner and nobody else."
   ]
  },
  {
   "cell_type": "code",
   "execution_count": 18,
   "metadata": {},
   "outputs": [
    {
     "name": "stdout",
     "output_type": "stream",
     "text": [
      "{'172.16.130.11': 'admin',\n",
      " '172.16.130.12': 'admin',\n",
      " '172.16.130.13': 'admin',\n",
      " '172.16.130.14': 'admin'}\n"
     ]
    }
   ],
   "source": [
    "with open('passwords.txt') as f:\n",
    "    passwords = {}\n",
    "    data = f.read()\n",
    "    \n",
    "    for line in data.splitlines():\n",
    "        ip, _, password = line.partition(' ')\n",
    "        passwords[ip] = password\n",
    "    pprint(passwords)\n",
    "    "
   ]
  },
  {
   "cell_type": "markdown",
   "metadata": {},
   "source": [
    "What are some other alternatives for storage of sensitive data?\n",
    "\n",
    "* Netbox has a method of [storing secrets](http://netbox.readthedocs.io/en/latest/data-model/secrets/) with an API.\n",
    "* All major relational databases "
   ]
  },
  {
   "cell_type": "markdown",
   "metadata": {
    "slideshow": {
     "slide_type": "-"
    }
   },
   "source": [
    "**Configuration Change Management**\n",
    "\n",
    "Device configurations have to be stored somewhere engineers, support personnel, and sometimes customers can access them. The storage solution depends on the structure of your organization, your security requirements, and your risk tolerance."
   ]
  },
  {
   "cell_type": "code",
   "execution_count": 19,
   "metadata": {},
   "outputs": [
    {
     "name": "stdout",
     "output_type": "stream",
     "text": [
      "{'candidate': '',\n",
      " 'running': '! Command: show running-config\\n'\n",
      "            '! device: eos1 (vEOS, EOS-4.15.5M)\\n'\n",
      "            '!\\n'\n",
      "            '! boot system flash:/vEOS-lab.swi\\n'\n",
      "            '!\\n'\n",
      "            'transceiver qsfp default-mode 4x10G\\n'\n",
      "            '!\\n'\n",
      "            'hostname eos1\\n'\n",
      "            '!\\n'\n",
      "            'spanning-tree mode mstp\\n'\n",
      "            '!\\n'\n",
      "            'no aaa root\\n'\n",
      "            '!\\n'\n",
      "            'username admin role network-admin secret 5 '\n",
      "            '$1$RwN5EBy0$tKxGuIPPFzaMbq6VB8.VH0\\n'\n",
      "            '!\\n'\n",
      "            'interface Ethernet1\\n'\n",
      "            '!\\n'\n",
      "            'interface Ethernet2\\n'\n",
      "            '   no switchport\\n'\n",
      "            '   ip address 10.1.1.8/31\\n'\n",
      "            '!\\n'\n",
      "            'interface Ethernet3\\n'\n",
      "            '   no switchport\\n'\n",
      "            '   ip address 10.1.1.0/31\\n'\n",
      "            '!\\n'\n",
      "            'interface Loopback1\\n'\n",
      "            '   ip address 1.1.1.1/32\\n'\n",
      "            '!\\n'\n",
      "            'interface Loopback2\\n'\n",
      "            '   ip address 11.1.1.1/24\\n'\n",
      "            '!\\n'\n",
      "            'interface Management1\\n'\n",
      "            '   ip address 172.16.130.11/24\\n'\n",
      "            '!\\n'\n",
      "            'ip routing\\n'\n",
      "            '!\\n'\n",
      "            'router bgp 100\\n'\n",
      "            '   neighbor 10.1.1.1 remote-as 300\\n'\n",
      "            '   neighbor 10.1.1.1 maximum-routes 12000 \\n'\n",
      "            '   neighbor 10.1.1.6 remote-as 200\\n'\n",
      "            '   neighbor 10.1.1.6 maximum-routes 12000 \\n'\n",
      "            '   neighbor 10.1.1.9 remote-as 300\\n'\n",
      "            '   neighbor 10.1.1.9 maximum-routes 12000 \\n'\n",
      "            '   network 1.1.1.1/32\\n'\n",
      "            '   network 11.1.1.0/24\\n'\n",
      "            '!\\n'\n",
      "            'management api http-commands\\n'\n",
      "            '   protocol unix-socket\\n'\n",
      "            '   no shutdown\\n'\n",
      "            '!\\n'\n",
      "            'management ssh\\n'\n",
      "            '   idle-timeout 60\\n'\n",
      "            '!\\n'\n",
      "            '!\\n'\n",
      "            'end\\n',\n",
      " 'startup': '! Command: show startup-config\\n'\n",
      "            '! Startup-config last modified at  Thu Feb 15 01:51:13 2018 by '\n",
      "            'admin\\n'\n",
      "            '! device: eos1 (vEOS, EOS-4.15.5M)\\n'\n",
      "            '!\\n'\n",
      "            '! boot system flash:/vEOS-lab.swi\\n'\n",
      "            '!\\n'\n",
      "            'transceiver qsfp default-mode 4x10G\\n'\n",
      "            '!\\n'\n",
      "            'hostname eos1\\n'\n",
      "            '!\\n'\n",
      "            'spanning-tree mode mstp\\n'\n",
      "            '!\\n'\n",
      "            'no aaa root\\n'\n",
      "            '!\\n'\n",
      "            'username admin role network-admin secret 5 '\n",
      "            '$1$RwN5EBy0$tKxGuIPPFzaMbq6VB8.VH0\\n'\n",
      "            '!\\n'\n",
      "            'interface Ethernet1\\n'\n",
      "            '!\\n'\n",
      "            'interface Ethernet2\\n'\n",
      "            '   no switchport\\n'\n",
      "            '   ip address 10.1.1.8/31\\n'\n",
      "            '!\\n'\n",
      "            'interface Ethernet3\\n'\n",
      "            '   no switchport\\n'\n",
      "            '   ip address 10.1.1.0/31\\n'\n",
      "            '!\\n'\n",
      "            'interface Loopback1\\n'\n",
      "            '   ip address 1.1.1.1/32\\n'\n",
      "            '!\\n'\n",
      "            'interface Loopback2\\n'\n",
      "            '   ip address 11.1.1.1/24\\n'\n",
      "            '!\\n'\n",
      "            'interface Management1\\n'\n",
      "            '   ip address 172.16.130.11/24\\n'\n",
      "            '!\\n'\n",
      "            'ip routing\\n'\n",
      "            '!\\n'\n",
      "            'router bgp 100\\n'\n",
      "            '   neighbor 10.1.1.1 remote-as 300\\n'\n",
      "            '   neighbor 10.1.1.1 maximum-routes 12000 \\n'\n",
      "            '   neighbor 10.1.1.6 remote-as 200\\n'\n",
      "            '   neighbor 10.1.1.6 maximum-routes 12000 \\n'\n",
      "            '   neighbor 10.1.1.9 remote-as 300\\n'\n",
      "            '   neighbor 10.1.1.9 maximum-routes 12000 \\n'\n",
      "            '   network 1.1.1.1/32\\n'\n",
      "            '   network 11.1.1.0/24\\n'\n",
      "            '!\\n'\n",
      "            'management api http-commands\\n'\n",
      "            '   protocol unix-socket\\n'\n",
      "            '   no shutdown\\n'\n",
      "            '!\\n'\n",
      "            'management ssh\\n'\n",
      "            '   idle-timeout 60\\n'\n",
      "            '!\\n'\n",
      "            '!\\n'\n",
      "            'end\\n'}\n"
     ]
    }
   ],
   "source": [
    "# Now we don't have to write our passwords in source code. Moving along...\n",
    "device = driver(routers[0], 'admin', passwords[routers[0]])\n",
    "device.open()\n",
    "\n",
    "cfg = device.get_config()\n",
    "pprint(cfg)"
   ]
  },
  {
   "cell_type": "code",
   "execution_count": 5,
   "metadata": {},
   "outputs": [
    {
     "name": "stdout",
     "output_type": "stream",
     "text": [
      "{'candidate': '',\n",
      " 'running': '! Command: show running-config\\n'\n",
      "            '! device: eos1 (vEOS, EOS-4.15.5M)\\n'\n",
      "            '!\\n'\n",
      "            '! boot system flash:/vEOS-lab.swi\\n'\n",
      "            '!\\n'\n",
      "            'transceiver qsfp default-mode 4x10G\\n'\n",
      "            '!\\n'\n",
      "            'hostname eos1\\n'\n",
      "            '!\\n'\n",
      "            'spanning-tree mode mstp\\n'\n",
      "            '!\\n'\n",
      "            'no aaa root\\n'\n",
      "            '!\\n'\n",
      "            'username admin role network-admin secret 5 '\n",
      "            '$1$RwN5EBy0$tKxGuIPPFzaMbq6VB8.VH0\\n'\n",
      "            '!\\n'\n",
      "            'interface Ethernet1\\n'\n",
      "            '!\\n'\n",
      "            'interface Ethernet2\\n'\n",
      "            '   no switchport\\n'\n",
      "            '   ip address 10.1.1.8/31\\n'\n",
      "            '!\\n'\n",
      "            'interface Ethernet3\\n'\n",
      "            '   no switchport\\n'\n",
      "            '   ip address 10.1.1.0/31\\n'\n",
      "            '!\\n'\n",
      "            'interface Loopback1\\n'\n",
      "            '   ip address 1.1.1.1/32\\n'\n",
      "            '!\\n'\n",
      "            'interface Loopback2\\n'\n",
      "            '   ip address 11.1.1.1/24\\n'\n",
      "            '!\\n'\n",
      "            'interface Management1\\n'\n",
      "            '   ip address 172.16.130.11/24\\n'\n",
      "            '!\\n'\n",
      "            'ip routing\\n'\n",
      "            '!\\n'\n",
      "            'router bgp 100\\n'\n",
      "            '   neighbor 10.1.1.1 remote-as 300\\n'\n",
      "            '   neighbor 10.1.1.1 maximum-routes 12000 \\n'\n",
      "            '   neighbor 10.1.1.6 remote-as 200\\n'\n",
      "            '   neighbor 10.1.1.6 maximum-routes 12000 \\n'\n",
      "            '   neighbor 10.1.1.9 remote-as 300\\n'\n",
      "            '   neighbor 10.1.1.9 maximum-routes 12000 \\n'\n",
      "            '   network 1.1.1.1/32\\n'\n",
      "            '   network 11.1.1.0/24\\n'\n",
      "            '!\\n'\n",
      "            'management api http-commands\\n'\n",
      "            '   protocol unix-socket\\n'\n",
      "            '   no shutdown\\n'\n",
      "            '!\\n'\n",
      "            'management ssh\\n'\n",
      "            '   idle-timeout 60\\n'\n",
      "            '!\\n'\n",
      "            '!\\n'\n",
      "            'end\\n',\n",
      " 'startup': '! Command: show startup-config\\n'\n",
      "            '! Startup-config last modified at  Thu Feb 15 01:51:13 2018 by '\n",
      "            'admin\\n'\n",
      "            '! device: eos1 (vEOS, EOS-4.15.5M)\\n'\n",
      "            '!\\n'\n",
      "            '! boot system flash:/vEOS-lab.swi\\n'\n",
      "            '!\\n'\n",
      "            'transceiver qsfp default-mode 4x10G\\n'\n",
      "            '!\\n'\n",
      "            'hostname eos1\\n'\n",
      "            '!\\n'\n",
      "            'spanning-tree mode mstp\\n'\n",
      "            '!\\n'\n",
      "            'no aaa root\\n'\n",
      "            '!\\n'\n",
      "            'username admin role network-admin secret 5 '\n",
      "            '$1$RwN5EBy0$tKxGuIPPFzaMbq6VB8.VH0\\n'\n",
      "            '!\\n'\n",
      "            'interface Ethernet1\\n'\n",
      "            '!\\n'\n",
      "            'interface Ethernet2\\n'\n",
      "            '   no switchport\\n'\n",
      "            '   ip address 10.1.1.8/31\\n'\n",
      "            '!\\n'\n",
      "            'interface Ethernet3\\n'\n",
      "            '   no switchport\\n'\n",
      "            '   ip address 10.1.1.0/31\\n'\n",
      "            '!\\n'\n",
      "            'interface Loopback1\\n'\n",
      "            '   ip address 1.1.1.1/32\\n'\n",
      "            '!\\n'\n",
      "            'interface Loopback2\\n'\n",
      "            '   ip address 11.1.1.1/24\\n'\n",
      "            '!\\n'\n",
      "            'interface Management1\\n'\n",
      "            '   ip address 172.16.130.11/24\\n'\n",
      "            '!\\n'\n",
      "            'ip routing\\n'\n",
      "            '!\\n'\n",
      "            'router bgp 100\\n'\n",
      "            '   neighbor 10.1.1.1 remote-as 300\\n'\n",
      "            '   neighbor 10.1.1.1 maximum-routes 12000 \\n'\n",
      "            '   neighbor 10.1.1.6 remote-as 200\\n'\n",
      "            '   neighbor 10.1.1.6 maximum-routes 12000 \\n'\n",
      "            '   neighbor 10.1.1.9 remote-as 300\\n'\n",
      "            '   neighbor 10.1.1.9 maximum-routes 12000 \\n'\n",
      "            '   network 1.1.1.1/32\\n'\n",
      "            '   network 11.1.1.0/24\\n'\n",
      "            '!\\n'\n",
      "            'management api http-commands\\n'\n",
      "            '   protocol unix-socket\\n'\n",
      "            '   no shutdown\\n'\n",
      "            '!\\n'\n",
      "            'management ssh\\n'\n",
      "            '   idle-timeout 60\\n'\n",
      "            '!\\n'\n",
      "            '!\\n'\n",
      "            'end\\n'}\n"
     ]
    }
   ],
   "source": [
    "# Notice how the device.open() had no corresponding device.close().\n",
    "# Use their provided context manager to ensure connections to devices are torn down.\n",
    "\n",
    "with driver(routers[0], 'admin', 'admin') as device:\n",
    "    cfg = device.get_config()\n",
    "    pprint(cfg)\n",
    "    \n",
    "# connection to the device is closed once you fall out of the context manager."
   ]
  },
  {
   "cell_type": "markdown",
   "metadata": {},
   "source": [
    "show configuration change/staging\n",
    "then show how a context manager can be used to control cleanup or rollback"
   ]
  },
  {
   "cell_type": "markdown",
   "metadata": {},
   "source": [
    "There are two major classes of errors you can hit when you load a configuration, syntax errors and semantic errors.\n",
    "\n",
    "Syntax errors are pretty simple to detect on most major network platforms. Think about the *commit check* command in JunOS. It verifies the candidate configuration you wanted is **syntactically** valid. Each network OS might handle a syntax error slightly differently. For example, on JunOS, that 'commit check' command is essentially asking permission to load a configuration. Over on Arista's EOS, we have *config sessions* but we don't have exactly the same abilities here. On EOS, the closest we can get to this is asking for forgiveness - by simply trying to commit the candidate to the running configuration, looking for fire and smoke after it loads.\n",
    "\n",
    "Luckily, python is designed primarily to ask for forgiveness, so why not **try**?"
   ]
  },
  {
   "cell_type": "code",
   "execution_count": null,
   "metadata": {},
   "outputs": [],
   "source": [
    "with driver(routers[0], 'admin', 'admin') as device:\n",
    "    "
   ]
  },
  {
   "cell_type": "markdown",
   "metadata": {},
   "source": [
    "Napalm provides us a rollback function, but what if our candidate config is going to be applied but do something bad once loaded?\n",
    "\n",
    "We can use a context manager here as well to protect against missing rollback."
   ]
  },
  {
   "cell_type": "markdown",
   "metadata": {},
   "source": [
    "External libraries can be used to pull in quick functionality to make things look better. Progress bars have always been an issue in programming."
   ]
  },
  {
   "cell_type": "code",
   "execution_count": null,
   "metadata": {},
   "outputs": [],
   "source": [
    "from tqdm import tqdm\n",
    "import time\n",
    "\n",
    "for x in tqdm(range(10), desc='configuring all devices'):\n",
    "    time.sleep(0.1)\n"
   ]
  },
  {
   "cell_type": "code",
   "execution_count": null,
   "metadata": {},
   "outputs": [],
   "source": [
    "dir(driver)"
   ]
  },
  {
   "cell_type": "markdown",
   "metadata": {},
   "source": [
    "**References**\n",
    "\n",
    "[2](https://en.wikipedia.org/wiki/Heuristic) Heuristic - (Wikipedia)"
   ]
  }
 ],
 "metadata": {
  "kernelspec": {
   "display_name": "Python 3",
   "language": "python",
   "name": "python3"
  },
  "language_info": {
   "codemirror_mode": {
    "name": "ipython",
    "version": 3
   },
   "file_extension": ".py",
   "mimetype": "text/x-python",
   "name": "python",
   "nbconvert_exporter": "python",
   "pygments_lexer": "ipython3",
   "version": "3.6.3"
  }
 },
 "nbformat": 4,
 "nbformat_minor": 2
}
